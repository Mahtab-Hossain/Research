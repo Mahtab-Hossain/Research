{
  "nbformat": 4,
  "nbformat_minor": 0,
  "metadata": {
    "colab": {
      "name": "Untitled0.ipynb",
      "provenance": []
    },
    "kernelspec": {
      "name": "python3",
      "display_name": "Python 3"
    },
    "language_info": {
      "name": "python"
    }
  },
  "cells": [
    {
      "cell_type": "code",
      "execution_count": 1,
      "metadata": {
        "id": "0oacxEyX39il"
      },
      "outputs": [],
      "source": [
        "import io\n",
        "import sklearn\n",
        "import numpy as np\n",
        "import pandas as pd\n",
        "import seaborn as sns\n",
        "import plotly.express as px\n",
        "import plotly.offline as plt\n",
        "import plotly.graph_objs as go\n",
        "from google.colab import files\n",
        "import matplotlib.pyplot as plt\n",
        "from sklearn.model_selection import train_test_split"
      ]
    },
    {
      "cell_type": "code",
      "source": [
        "uploaded = files.upload()\n",
        "df = pd.read_csv(io.BytesIO(uploaded['ml.csv']))\n",
        "df.head(5)"
      ],
      "metadata": {
        "colab": {
          "resources": {
            "http://localhost:8080/nbextensions/google.colab/files.js": {
              "data": "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",
              "ok": true,
              "headers": [
                [
                  "content-type",
                  "application/javascript"
                ]
              ],
              "status": 200,
              "status_text": ""
            }
          },
          "base_uri": "https://localhost:8080/",
          "height": 495
        },
        "id": "OEsMn7oa4ZMX",
        "outputId": "7648a640-140e-459a-d3e6-53b69ddeb8cc"
      },
      "execution_count": 2,
      "outputs": [
        {
          "output_type": "display_data",
          "data": {
            "text/plain": [
              "<IPython.core.display.HTML object>"
            ],
            "text/html": [
              "\n",
              "     <input type=\"file\" id=\"files-d2f4c2f0-8eba-400a-91a9-9b3045ed223a\" name=\"files[]\" multiple disabled\n",
              "        style=\"border:none\" />\n",
              "     <output id=\"result-d2f4c2f0-8eba-400a-91a9-9b3045ed223a\">\n",
              "      Upload widget is only available when the cell has been executed in the\n",
              "      current browser session. Please rerun this cell to enable.\n",
              "      </output>\n",
              "      <script src=\"/nbextensions/google.colab/files.js\"></script> "
            ]
          },
          "metadata": {}
        },
        {
          "output_type": "stream",
          "name": "stdout",
          "text": [
            "Saving ml.csv to ml.csv\n"
          ]
        },
        {
          "output_type": "execute_result",
          "data": {
            "text/plain": [
              "   Unnamed: 0                  Job Title  Rating         Location  \\\n",
              "0           0             Data Scientist     3.8  Albuquerque, NM   \n",
              "1           1  Healthcare Data Scientist     3.4    Linthicum, MD   \n",
              "2           2             Data Scientist     4.8   Clearwater, FL   \n",
              "3           3             Data Scientist     3.8     Richland, WA   \n",
              "4           4             Data Scientist     2.9     New York, NY   \n",
              "\n",
              "           Size  Founded                        Sector  Hourly  \\\n",
              "0   501 - 1000      1973           Aerospace & Defense       0   \n",
              "1       10000+      1984                   Health Care       0   \n",
              "2   501 - 1000      2010             Business Services       0   \n",
              "3  1001 - 5000      1965  Oil, Gas, Energy & Utilities       0   \n",
              "4     51 - 200      1998             Business Services       0   \n",
              "\n",
              "   Employer provided  Lower Salary  ...  Python  aws excel  sql  keras  \\\n",
              "0                  0            53  ...       1    0     1    0      0   \n",
              "1                  0            63  ...       1    0     0    0      0   \n",
              "2                  0            80  ...       1    0     1    1      0   \n",
              "3                  0            56  ...       1    0     0    0      0   \n",
              "4                  0            86  ...       1    0     1    1      0   \n",
              "\n",
              "   scikit  tensor  mongo   job_title_sim  seniority_by_title  \n",
              "0       0       0      0  data scientist                  na  \n",
              "1       0       0      0  data scientist                  na  \n",
              "2       0       0      0  data scientist                  na  \n",
              "3       0       0      0  data scientist                  na  \n",
              "4       0       0      0  data scientist                  na  \n",
              "\n",
              "[5 rows x 24 columns]"
            ],
            "text/html": [
              "\n",
              "  <div id=\"df-9ae273d5-2955-4f40-8a94-a2483728057e\">\n",
              "    <div class=\"colab-df-container\">\n",
              "      <div>\n",
              "<style scoped>\n",
              "    .dataframe tbody tr th:only-of-type {\n",
              "        vertical-align: middle;\n",
              "    }\n",
              "\n",
              "    .dataframe tbody tr th {\n",
              "        vertical-align: top;\n",
              "    }\n",
              "\n",
              "    .dataframe thead th {\n",
              "        text-align: right;\n",
              "    }\n",
              "</style>\n",
              "<table border=\"1\" class=\"dataframe\">\n",
              "  <thead>\n",
              "    <tr style=\"text-align: right;\">\n",
              "      <th></th>\n",
              "      <th>Unnamed: 0</th>\n",
              "      <th>Job Title</th>\n",
              "      <th>Rating</th>\n",
              "      <th>Location</th>\n",
              "      <th>Size</th>\n",
              "      <th>Founded</th>\n",
              "      <th>Sector</th>\n",
              "      <th>Hourly</th>\n",
              "      <th>Employer provided</th>\n",
              "      <th>Lower Salary</th>\n",
              "      <th>...</th>\n",
              "      <th>Python</th>\n",
              "      <th>aws</th>\n",
              "      <th>excel</th>\n",
              "      <th>sql</th>\n",
              "      <th>keras</th>\n",
              "      <th>scikit</th>\n",
              "      <th>tensor</th>\n",
              "      <th>mongo</th>\n",
              "      <th>job_title_sim</th>\n",
              "      <th>seniority_by_title</th>\n",
              "    </tr>\n",
              "  </thead>\n",
              "  <tbody>\n",
              "    <tr>\n",
              "      <th>0</th>\n",
              "      <td>0</td>\n",
              "      <td>Data Scientist</td>\n",
              "      <td>3.8</td>\n",
              "      <td>Albuquerque, NM</td>\n",
              "      <td>501 - 1000</td>\n",
              "      <td>1973</td>\n",
              "      <td>Aerospace &amp; Defense</td>\n",
              "      <td>0</td>\n",
              "      <td>0</td>\n",
              "      <td>53</td>\n",
              "      <td>...</td>\n",
              "      <td>1</td>\n",
              "      <td>0</td>\n",
              "      <td>1</td>\n",
              "      <td>0</td>\n",
              "      <td>0</td>\n",
              "      <td>0</td>\n",
              "      <td>0</td>\n",
              "      <td>0</td>\n",
              "      <td>data scientist</td>\n",
              "      <td>na</td>\n",
              "    </tr>\n",
              "    <tr>\n",
              "      <th>1</th>\n",
              "      <td>1</td>\n",
              "      <td>Healthcare Data Scientist</td>\n",
              "      <td>3.4</td>\n",
              "      <td>Linthicum, MD</td>\n",
              "      <td>10000+</td>\n",
              "      <td>1984</td>\n",
              "      <td>Health Care</td>\n",
              "      <td>0</td>\n",
              "      <td>0</td>\n",
              "      <td>63</td>\n",
              "      <td>...</td>\n",
              "      <td>1</td>\n",
              "      <td>0</td>\n",
              "      <td>0</td>\n",
              "      <td>0</td>\n",
              "      <td>0</td>\n",
              "      <td>0</td>\n",
              "      <td>0</td>\n",
              "      <td>0</td>\n",
              "      <td>data scientist</td>\n",
              "      <td>na</td>\n",
              "    </tr>\n",
              "    <tr>\n",
              "      <th>2</th>\n",
              "      <td>2</td>\n",
              "      <td>Data Scientist</td>\n",
              "      <td>4.8</td>\n",
              "      <td>Clearwater, FL</td>\n",
              "      <td>501 - 1000</td>\n",
              "      <td>2010</td>\n",
              "      <td>Business Services</td>\n",
              "      <td>0</td>\n",
              "      <td>0</td>\n",
              "      <td>80</td>\n",
              "      <td>...</td>\n",
              "      <td>1</td>\n",
              "      <td>0</td>\n",
              "      <td>1</td>\n",
              "      <td>1</td>\n",
              "      <td>0</td>\n",
              "      <td>0</td>\n",
              "      <td>0</td>\n",
              "      <td>0</td>\n",
              "      <td>data scientist</td>\n",
              "      <td>na</td>\n",
              "    </tr>\n",
              "    <tr>\n",
              "      <th>3</th>\n",
              "      <td>3</td>\n",
              "      <td>Data Scientist</td>\n",
              "      <td>3.8</td>\n",
              "      <td>Richland, WA</td>\n",
              "      <td>1001 - 5000</td>\n",
              "      <td>1965</td>\n",
              "      <td>Oil, Gas, Energy &amp; Utilities</td>\n",
              "      <td>0</td>\n",
              "      <td>0</td>\n",
              "      <td>56</td>\n",
              "      <td>...</td>\n",
              "      <td>1</td>\n",
              "      <td>0</td>\n",
              "      <td>0</td>\n",
              "      <td>0</td>\n",
              "      <td>0</td>\n",
              "      <td>0</td>\n",
              "      <td>0</td>\n",
              "      <td>0</td>\n",
              "      <td>data scientist</td>\n",
              "      <td>na</td>\n",
              "    </tr>\n",
              "    <tr>\n",
              "      <th>4</th>\n",
              "      <td>4</td>\n",
              "      <td>Data Scientist</td>\n",
              "      <td>2.9</td>\n",
              "      <td>New York, NY</td>\n",
              "      <td>51 - 200</td>\n",
              "      <td>1998</td>\n",
              "      <td>Business Services</td>\n",
              "      <td>0</td>\n",
              "      <td>0</td>\n",
              "      <td>86</td>\n",
              "      <td>...</td>\n",
              "      <td>1</td>\n",
              "      <td>0</td>\n",
              "      <td>1</td>\n",
              "      <td>1</td>\n",
              "      <td>0</td>\n",
              "      <td>0</td>\n",
              "      <td>0</td>\n",
              "      <td>0</td>\n",
              "      <td>data scientist</td>\n",
              "      <td>na</td>\n",
              "    </tr>\n",
              "  </tbody>\n",
              "</table>\n",
              "<p>5 rows × 24 columns</p>\n",
              "</div>\n",
              "      <button class=\"colab-df-convert\" onclick=\"convertToInteractive('df-9ae273d5-2955-4f40-8a94-a2483728057e')\"\n",
              "              title=\"Convert this dataframe to an interactive table.\"\n",
              "              style=\"display:none;\">\n",
              "        \n",
              "  <svg xmlns=\"http://www.w3.org/2000/svg\" height=\"24px\"viewBox=\"0 0 24 24\"\n",
              "       width=\"24px\">\n",
              "    <path d=\"M0 0h24v24H0V0z\" fill=\"none\"/>\n",
              "    <path d=\"M18.56 5.44l.94 2.06.94-2.06 2.06-.94-2.06-.94-.94-2.06-.94 2.06-2.06.94zm-11 1L8.5 8.5l.94-2.06 2.06-.94-2.06-.94L8.5 2.5l-.94 2.06-2.06.94zm10 10l.94 2.06.94-2.06 2.06-.94-2.06-.94-.94-2.06-.94 2.06-2.06.94z\"/><path d=\"M17.41 7.96l-1.37-1.37c-.4-.4-.92-.59-1.43-.59-.52 0-1.04.2-1.43.59L10.3 9.45l-7.72 7.72c-.78.78-.78 2.05 0 2.83L4 21.41c.39.39.9.59 1.41.59.51 0 1.02-.2 1.41-.59l7.78-7.78 2.81-2.81c.8-.78.8-2.07 0-2.86zM5.41 20L4 18.59l7.72-7.72 1.47 1.35L5.41 20z\"/>\n",
              "  </svg>\n",
              "      </button>\n",
              "      \n",
              "  <style>\n",
              "    .colab-df-container {\n",
              "      display:flex;\n",
              "      flex-wrap:wrap;\n",
              "      gap: 12px;\n",
              "    }\n",
              "\n",
              "    .colab-df-convert {\n",
              "      background-color: #E8F0FE;\n",
              "      border: none;\n",
              "      border-radius: 50%;\n",
              "      cursor: pointer;\n",
              "      display: none;\n",
              "      fill: #1967D2;\n",
              "      height: 32px;\n",
              "      padding: 0 0 0 0;\n",
              "      width: 32px;\n",
              "    }\n",
              "\n",
              "    .colab-df-convert:hover {\n",
              "      background-color: #E2EBFA;\n",
              "      box-shadow: 0px 1px 2px rgba(60, 64, 67, 0.3), 0px 1px 3px 1px rgba(60, 64, 67, 0.15);\n",
              "      fill: #174EA6;\n",
              "    }\n",
              "\n",
              "    [theme=dark] .colab-df-convert {\n",
              "      background-color: #3B4455;\n",
              "      fill: #D2E3FC;\n",
              "    }\n",
              "\n",
              "    [theme=dark] .colab-df-convert:hover {\n",
              "      background-color: #434B5C;\n",
              "      box-shadow: 0px 1px 3px 1px rgba(0, 0, 0, 0.15);\n",
              "      filter: drop-shadow(0px 1px 2px rgba(0, 0, 0, 0.3));\n",
              "      fill: #FFFFFF;\n",
              "    }\n",
              "  </style>\n",
              "\n",
              "      <script>\n",
              "        const buttonEl =\n",
              "          document.querySelector('#df-9ae273d5-2955-4f40-8a94-a2483728057e button.colab-df-convert');\n",
              "        buttonEl.style.display =\n",
              "          google.colab.kernel.accessAllowed ? 'block' : 'none';\n",
              "\n",
              "        async function convertToInteractive(key) {\n",
              "          const element = document.querySelector('#df-9ae273d5-2955-4f40-8a94-a2483728057e');\n",
              "          const dataTable =\n",
              "            await google.colab.kernel.invokeFunction('convertToInteractive',\n",
              "                                                     [key], {});\n",
              "          if (!dataTable) return;\n",
              "\n",
              "          const docLinkHtml = 'Like what you see? Visit the ' +\n",
              "            '<a target=\"_blank\" href=https://colab.research.google.com/notebooks/data_table.ipynb>data table notebook</a>'\n",
              "            + ' to learn more about interactive tables.';\n",
              "          element.innerHTML = '';\n",
              "          dataTable['output_type'] = 'display_data';\n",
              "          await google.colab.output.renderOutput(dataTable, element);\n",
              "          const docLink = document.createElement('div');\n",
              "          docLink.innerHTML = docLinkHtml;\n",
              "          element.appendChild(docLink);\n",
              "        }\n",
              "      </script>\n",
              "    </div>\n",
              "  </div>\n",
              "  "
            ]
          },
          "metadata": {},
          "execution_count": 2
        }
      ]
    },
    {
      "cell_type": "code",
      "source": [
        "df.info()"
      ],
      "metadata": {
        "colab": {
          "base_uri": "https://localhost:8080/"
        },
        "id": "VBRcEQhu4grD",
        "outputId": "bd02349c-ab84-4426-937c-cba615316976"
      },
      "execution_count": 5,
      "outputs": [
        {
          "output_type": "stream",
          "name": "stdout",
          "text": [
            "<class 'pandas.core.frame.DataFrame'>\n",
            "RangeIndex: 742 entries, 0 to 741\n",
            "Data columns (total 24 columns):\n",
            " #   Column              Non-Null Count  Dtype  \n",
            "---  ------              --------------  -----  \n",
            " 0   Unnamed: 0          742 non-null    int64  \n",
            " 1   Job Title           742 non-null    object \n",
            " 2   Rating              742 non-null    float64\n",
            " 3   Location            742 non-null    object \n",
            " 4   Size                742 non-null    object \n",
            " 5   Founded             742 non-null    int64  \n",
            " 6   Sector              742 non-null    object \n",
            " 7   Hourly              742 non-null    int64  \n",
            " 8   Employer provided   742 non-null    int64  \n",
            " 9   Lower Salary        742 non-null    int64  \n",
            " 10  Upper Salary        742 non-null    int64  \n",
            " 11  Avg Salary(K)       742 non-null    float64\n",
            " 12  Job Location        742 non-null    object \n",
            " 13  Age                 742 non-null    int64  \n",
            " 14  Python              742 non-null    int64  \n",
            " 15  aws                 742 non-null    int64  \n",
            " 16  excel               742 non-null    int64  \n",
            " 17  sql                 742 non-null    int64  \n",
            " 18  keras               742 non-null    int64  \n",
            " 19  scikit              742 non-null    int64  \n",
            " 20  tensor              742 non-null    int64  \n",
            " 21  mongo               742 non-null    int64  \n",
            " 22  job_title_sim       742 non-null    object \n",
            " 23  seniority_by_title  742 non-null    object \n",
            "dtypes: float64(2), int64(15), object(7)\n",
            "memory usage: 139.2+ KB\n"
          ]
        }
      ]
    },
    {
      "cell_type": "code",
      "source": [
        "sns.countplot(df[\"Job Location\"])\n"
      ],
      "metadata": {
        "colab": {
          "base_uri": "https://localhost:8080/",
          "height": 391
        },
        "id": "zfbqUNK-4rOE",
        "outputId": "6d1e1075-491e-43c2-df2e-81c0f8c4d493"
      },
      "execution_count": 8,
      "outputs": [
        {
          "output_type": "stream",
          "name": "stderr",
          "text": [
            "/usr/local/lib/python3.7/dist-packages/seaborn/_decorators.py:43: FutureWarning:\n",
            "\n",
            "Pass the following variable as a keyword arg: x. From version 0.12, the only valid positional argument will be `data`, and passing other arguments without an explicit keyword will result in an error or misinterpretation.\n",
            "\n"
          ]
        },
        {
          "output_type": "execute_result",
          "data": {
            "text/plain": [
              "<matplotlib.axes._subplots.AxesSubplot at 0x7f7e8d90ee10>"
            ]
          },
          "metadata": {},
          "execution_count": 8
        },
        {
          "output_type": "display_data",
          "data": {
            "text/plain": [
              "<Figure size 432x288 with 1 Axes>"
            ],
            "image/png": "[encoded data removed]"
          },
          "metadata": {
            "needs_background": "light"
          }
        }
      ]
    },
    {
      "cell_type": "code",
      "source": [
        "sns.countplot(df[\"Avg Salary(K)\"])"
      ],
      "metadata": {
        "colab": {
          "base_uri": "https://localhost:8080/",
          "height": 391
        },
        "id": "OEuWM41v6S1M",
        "outputId": "6d4c3bcf-2238-47ca-cacf-3fdcc50a6168"
      },
      "execution_count": 11,
      "outputs": [
        {
          "output_type": "stream",
          "name": "stderr",
          "text": [
            "/usr/local/lib/python3.7/dist-packages/seaborn/_decorators.py:43: FutureWarning:\n",
            "\n",
            "Pass the following variable as a keyword arg: x. From version 0.12, the only valid positional argument will be `data`, and passing other arguments without an explicit keyword will result in an error or misinterpretation.\n",
            "\n"
          ]
        },
        {
          "output_type": "execute_result",
          "data": {
            "text/plain": [
              "<matplotlib.axes._subplots.AxesSubplot at 0x7f7e8a9dca10>"
            ]
          },
          "metadata": {},
          "execution_count": 11
        },
        {
          "output_type": "display_data",
          "data": {
            "text/plain": [
              "<Figure size 432x288 with 1 Axes>"
            ],
            "image/png": "[encoded data removed]"
          },
          "metadata": {
            "needs_background": "light"
          }
        }
      ]
    },
    {
      "cell_type": "code",
      "source": [
        "sns.countplot(df[\"Size\"])"
      ],
      "metadata": {
        "colab": {
          "base_uri": "https://localhost:8080/",
          "height": 391
        },
        "id": "N6a8KNzq5Bg-",
        "outputId": "3519654d-6108-420a-bcfc-8dca995fdba0"
      },
      "execution_count": 9,
      "outputs": [
        {
          "output_type": "stream",
          "name": "stderr",
          "text": [
            "/usr/local/lib/python3.7/dist-packages/seaborn/_decorators.py:43: FutureWarning:\n",
            "\n",
            "Pass the following variable as a keyword arg: x. From version 0.12, the only valid positional argument will be `data`, and passing other arguments without an explicit keyword will result in an error or misinterpretation.\n",
            "\n"
          ]
        },
        {
          "output_type": "execute_result",
          "data": {
            "text/plain": [
              "<matplotlib.axes._subplots.AxesSubplot at 0x7f7e8c96e290>"
            ]
          },
          "metadata": {},
          "execution_count": 9
        },
        {
          "output_type": "display_data",
          "data": {
            "text/plain": [
              "<Figure size 432x288 with 1 Axes>"
            ],
            "image/png": "[encoded data removed]"
          },
          "metadata": {
            "needs_background": "light"
          }
        }
      ]
    },
    {
      "cell_type": "code",
      "source": [
        "df_1=df['Job Title']\n",
        "df_2=df['Location']\n",
        "df_3=df['Size']\n",
        "df_4=df['Sector']\n",
        "df_5=df['Avg Salary(K)']\n",
        "df_6=df['Job Location']"
      ],
      "metadata": {
        "id": "P6TYUli_5WBF"
      },
      "execution_count": 26,
      "outputs": []
    },
    {
      "cell_type": "code",
      "source": [
        "# Import LabelEncoder\n",
        "from sklearn import preprocessing\n",
        "le = preprocessing.LabelEncoder()\n",
        "# Converts string labels into integer.\n",
        "df_t=le.fit_transform(df_1)\n",
        "df_t2=le.fit_transform(df_2)\n",
        "df_t3=le.fit_transform(df_3)\n",
        "df_t4=le.fit_transform(df_4)\n",
        "df_t5=le.fit_transform(df_5)\n",
        "df_t6=le.fit_transform(df_6)\n",
        "#df_encoder= df_encoder.reshape(-1, 1)\n",
        "print(\"Job title Numerical values\")\n",
        "print(df_t)\n",
        "print(\"Locatiton Numerical values\")\n",
        "print(df_t2)\n",
        "print(\"Size Numerical values\")\n",
        "print(df_t3)\n",
        "print(\"Sector\")\n",
        "print(df_t4)\n",
        "print(\"This is for avg salary (k)\")\n",
        "print(df_t5)\n",
        "print(\"Job location in numerical value\")\n",
        "print(df_t6)"
      ],
      "metadata": {
        "colab": {
          "base_uri": "https://localhost:8080/"
        },
        "id": "X7m7_vi16hfk",
        "outputId": "7f166b3c-106b-40a5-df4f-3af79f9cd6ae"
      },
      "execution_count": 27,
      "outputs": [
        {
          "output_type": "stream",
          "name": "stdout",
          "text": [
            "Job title Numerical values\n",
            "[ 69 106  69  69  69  69  69  69 165  69  69  69 252  40  69  56 180  36\n",
            "  75  69  69 198  76  69  69  90  69   6  29  69  69  69  80  69  69 263\n",
            "  69  69 195  51  40  51  72 175 195  69 119   6 230  32  69  86  65  69\n",
            "  69  69  69  69  69  69 195  69 218  84  69  69  69  77  69 159   2  96\n",
            " 175  83  69 161  38 165  69  69  69 112  69  40  51  40 252  69  69  60\n",
            "  98 246 110  61  42 175  69  69  40 119  69  69  87 195  51 195 102 191\n",
            " 165  69  51  69  69  69  51   0  69  51  81 193  69  69  51  51  40 156\n",
            "  69  48 210  69 195  69  16 179 123  89  69  36  51  51 241  54  41 215\n",
            "  74  51  37 119 137 202 191 225  51  21 119 242 195 140  70 251 198  75\n",
            "  55 221 191 133 172 184 195   3  51  91 245 191 147 195 144 121 248 243\n",
            " 101 126 262 195 164 138 139 190 143  51 148 228 189 253 149 117 131 135\n",
            " 160 216   4 239 122 103 256 237  76  69 217  25 136  69 191  21  51  69\n",
            "  40   9  26 119 242 195  40 140  40  40 251  70 259  69  55  90  69  39\n",
            " 221  51  23 191  69 258  69  69 172  69 120 165 133 114 173  69 195  69\n",
            " 184   3  29  69 244  51  69 245  91 147 191 111  69  69 144  51 195  57\n",
            " 248 121 243  69 109 101 126  69  69  69  69 195  88 195 262 164  27  51\n",
            " 195  58 254 138  19 236 190 155  51 204 141 163  64  22  80  69 195 139\n",
            "  28  51  33  51 143 151 148 189  69 130 228  51 250   8 195 249 131 149\n",
            "  40  92  69  69 253 109 117 181  49  34  51 131 219 135 125 160  51 185\n",
            "  10 216 195  30   4 239  72 197  51 103 195  51  94 187 256 122 176   7\n",
            " 237 208 194  99 222 177 171  18 247 107 169 157  69  69 100 211  35 119\n",
            " 132 193 191  63  12  20 232  51 209 174 261 193 129 188 255 182 237 115\n",
            " 152 235  32 195 238 200   1  11 224  46 118 199 134 212  95 162 105 223\n",
            " 260 214  93 231 193 193  13 220  69  69  69  51  33 143  69 145  69 151\n",
            " 148  69  69  69  69  69  51 189  69 228 130 250   8  51 250  69  69  69\n",
            " 195  69  69  69  47  69  69 249  69  69  69  69  82  51 131  69 195 149\n",
            "  40 226  92 253  69 119 196 109 117  40 181  34  49  40  51  69 123 201\n",
            "  69 195 219 125 131  51 135 160 142  51  73  86  14  79  51 185  69  10\n",
            " 216  69 195 142  69  30  52  43  51 186 195 154 116   4  66 197 239  69\n",
            " 195  51 103 193  51 195  94 123 233 187 256 122 176   7 108 237  28  24\n",
            " 208 194  99 222 177  18 171 247  69  78 107 169 191 150  68 234 193 157\n",
            " 168  67  44 100 257  53  35 211 132 191 191 193 193  62  63  85  69 153\n",
            "  12 232 203 192  20 183 209  51  51 119 261  22 174 129 193 255  59 237\n",
            " 188 127 182 227  51  51 115 152 235 238  15 200   1  11  97 224  46 206\n",
            " 118  67 199  51  95 134 212 213 105 162 223 260 214  69 142  93  51 231\n",
            " 193 193 236 167  13  45 220 166 170 104 207 146 236 205 158  31 229 128\n",
            "   5 240 218  84  34 178  40  51  69  69  69 123  69 195 219 131 125  51\n",
            " 135 142 160  51  14  79 195  83  69 185  10  69  69 195 216 142  30  43\n",
            "  69  69  69  52  51  71 186 195 113 195 154  50   4 116  66 201  69 239\n",
            " 197  51 103 193  51 195  94 123 233 122 187 256  69 176  17   7 237  28\n",
            " 108  24 208 194  99 222 177 171 247  18 169 107 124 191  68  51 150 234\n",
            " 193 157  67 168]\n",
            "Locatiton Numerical values\n",
            "[  3  99  42 154 122  50  18 164 157 122 164  35 142 173  30 123  30 118\n",
            " 163  53 173  50  40 104  78  30  80 199  73  42 154  55  30 182  86 164\n",
            " 151 197  69 101 163 108 163   6  40 190  21 102  19 137  62  26  84  11\n",
            " 162   3 163 159  18  50  41 122 133 154  47  66  14  26 139 188  85  94\n",
            " 109  37 141 188 118  30  35 164 163  76  96  40  10 184 142 164 113  84\n",
            " 121 163  14  95 135 181 111  61 116 175 122 183  83 190  36 177 110 140\n",
            " 129 163 105  30 122 163 163  15 158 117 103  36  30  41 190  40  18   1\n",
            " 170  90  13  40  78  64 187 125  16 122  35 118 185  40  53 155 163 141\n",
            " 154 190  40  41  38 154  42  85  30  59  26 176  49  26  68 164  50 163\n",
            " 155 108  78 193 106  30 163  52 196 166 162  74  26 198 163  98  26 122\n",
            " 179 141 140  28  84 199 124  40 160  93 157   9  30 163 157 118  79  29\n",
            "  82 141 171  92 114 116 158  40  40  78 174 122 121  50  42  59  30  40\n",
            " 165 111  51  26 176  49 134  26 163 112 164  68  39  85 155  30 104 122\n",
            " 108 119  40  78 145 117 144  17 106 176 147 129 193 190  17  41 163 149\n",
            "  30  52  73  78 138 196 127 162 166  26  74  25 163 126 163   0 198 136\n",
            "  26  98 122 167 150 179 141 122  80  55 190  28  61 133 140  84 162  83\n",
            "  11  30  45 199 176 178  40 190  78  30 163 161 163  85  30 182  50 124\n",
            " 146  93 154 178 160  10 157  30 163 192   9  78  17 190  36 164  60 157\n",
            "   4  26 151  86 163  40 118 132 178  77 130  79 108  29  97  82 122  46\n",
            "  30 141  40 186 171  92 163 122  53 116 120 158  40 176 158 114 195 153\n",
            "  85  40  75  30 195 162 163  88 107 148  30 141  62 190  26 122  72  28\n",
            " 122  57 122  85  43  26  34  35 131  40  44  17  26  30 158 132  40 163\n",
            " 151 194 137  40  54 154  33  30  30 139 163 173 129 119  40 161  17 195\n",
            "  84  57  63  24 163 163 122 195   3 159 180 178 154 160  89 163 163  10\n",
            " 157  58 133 168  32 122  91  30 163   9 192  17 190  78 118  10 169 169\n",
            "  36  27 163 180 122 122 122 164  65 122 122  81 122 122  60 189 122 157\n",
            "   4  48  26 163 162  21 122  40 118 122 132  77 178 122 130 122  61  70\n",
            " 175 133 108  97  79  83  29  82 164 140 122  26  70  20 122  46 122  30\n",
            " 141 122  40 163 122 186  36 160   5  30 103  56 122 171 164 122  92  11\n",
            "  12  53 116  67 158 120  40 122  30 176 158 114 195 153 199  85 185 122\n",
            "  40  75  30 195 162  88 163 107  14 118 148  30 163 143  26  30 119 141\n",
            "  19   7 160  26 100  22  72 122 122  78 122 152  57  26  85  30 122 138\n",
            "  43  34  30 163  26  30 131  35 172  28  44  35  40  26  17 158  23  40\n",
            "  30 163 132  69 180 162 163 151 194  54   2 154  33  30  30  30 139   2\n",
            " 163 163 173  40  40 129 119  89  17 161 195  84  57  47  70  63 156  24\n",
            " 163 163 122  30 122 163 195  30 141 173  71  30 139 115 158 191  31  30\n",
            "  26 103 133 154  77  70 122 130  63 122 109  61 175 133 108  79  97  83\n",
            "  29 164  82 140  70  20  41  37 190  46  30 122 122  40 141 163 186 160\n",
            " 122 140  87  36   5 163  30 103 111   8  56 122 171 122 164  70 128  92\n",
            " 122  53 116  67 158 120  40 122  30 114 176 158 139 195 176 153  85 185\n",
            " 199 122  40  75  30 195 162 163 107  88  30 148 133 163  26 163 143  30\n",
            " 119 141   7  19]\n",
            "Size Numerical values\n",
            "[4 0 4 1 5 2 4 2 0 5 4 3 0 2 0 1 5 2 5 4 2 2 4 5 4 0 1 3 0 4 1 1 0 3 2 2 1\n",
            " 2 3 2 2 6 5 3 1 7 0 3 4 0 4 0 1 0 0 3 4 5 4 2 2 2 4 1 0 5 5 2 6 0 6 0 4 4\n",
            " 1 0 2 5 1 0 5 2 3 5 2 4 0 2 4 5 5 2 3 5 1 0 3 4 1 6 5 4 1 1 1 0 2 2 1 2 2\n",
            " 0 5 5 3 4 2 5 1 1 2 1 5 1 4 5 1 4 0 2 4 1 1 1 6 1 3 2 5 5 2 0 5 4 1 0 2 2\n",
            " 3 1 4 5 5 1 3 0 3 0 4 0 2 5 0 1 2 3 5 2 3 2 5 5 0 2 0 1 5 1 0 1 4 4 1 5 5\n",
            " 3 2 4 5 4 0 5 2 2 0 5 1 1 4 4 4 0 1 4 2 1 4 0 1 1 0 2 4 1 5 5 1 3 1 3 0 3\n",
            " 4 0 5 2 0 4 2 2 0 0 5 2 1 1 4 2 1 2 1 6 5 0 4 1 3 4 2 1 3 1 2 2 0 4 6 5 5\n",
            " 0 5 0 2 4 6 3 5 1 1 1 0 1 1 0 4 4 4 1 1 1 2 5 4 6 1 5 5 4 0 0 2 3 0 3 4 0\n",
            " 3 0 3 1 2 6 0 3 4 2 3 4 1 3 5 1 0 2 2 2 5 6 4 1 1 5 4 0 4 3 1 2 2 0 5 3 3\n",
            " 0 4 1 1 1 4 4 4 2 0 4 2 4 4 0 5 0 4 4 1 2 0 2 2 1 3 4 5 3 3 6 3 4 5 1 1 1\n",
            " 7 4 4 7 3 0 1 5 1 3 2 0 5 0 4 5 2 4 1 5 1 4 2 3 1 1 1 0 0 1 2 1 4 2 7 3 5\n",
            " 1 0 3 0 1 4 3 0 1 1 1 5 2 1 3 3 5 5 3 1 5 0 4 5 1 0 0 4 5 1 1 6 2 2 5 2 4\n",
            " 1 6 1 2 4 6 1 6 6 0 0 0 7 5 5 6 2 2 0 2 4 5 1 0 4 0 3 2 0 0 2 0 5 1 3 0 3\n",
            " 6 4 5 4 0 2 6 1 4 1 4 1 4 0 4 1 0 0 3 4 2 4 0 4 2 2 4 2 4 2 0 1 0 5 1 2 4\n",
            " 0 0 0 0 3 4 4 1 2 1 0 1 0 2 2 1 3 4 3 5 1 1 3 3 6 3 4 1 5 1 5 4 1 7 5 0 3\n",
            " 0 1 4 4 6 0 3 1 4 1 0 1 4 2 4 3 3 0 0 2 6 5 4 0 2 0 7 2 5 4 5 1 1 4 1 5 2\n",
            " 1 1 4 2 3 3 3 4 1 1 0 2 4 1 4 2 0 7 3 4 5 4 1 2 0 0 3 1 4 1 3 0 1 0 0 1 0\n",
            " 1 5 2 2 5 1 4 3 5 4 4 1 7 2 0 2 5 0 4 0 6 4 1 0 0 6 4 1 5 6 4 2 6 1 1 4 4\n",
            " 1 0 4 4 0 3 2 4 5 2 0 2 4 2 4 4 4 0 2 2 0 2 1 2 0 5 3 5 1 1 4 2 0 0 5 0 0\n",
            " 4 4 1 2 1 0 1 0 1 2 2 6 3 4 4 5 1 3 1 3 3 6 3 4 5 1 1 7 1 6 5 3 2 0 0 1 4\n",
            " 6 4]\n",
            "Sector\n",
            "[ 2 12  6 19  6 20 10  6 12 13 21  6 21  6  5 16  5 13 13 14 13 14 23 23\n",
            " 13  5 10 14  5  6 19 20  5 22  5 13 13  2  5 14 13  0 13 15 20 13 13 13\n",
            "  2 15  6 14  2 14  2  5 13 13 10 20 17  6 10 19 21  5 13  6  6 13 13  6\n",
            "  6 13 17 13 13  5  2 13 12  6  2 13  6  6 21  6 13 13 13  5 10 13 13 13\n",
            " 11 13 14 13  6  6  9  6 13 15 13 13 12 13 13  5 13 13 13  3 12  6 12  6\n",
            " 13 16 13 20  6  6 15  6 13  6 13 10 15  5  2  6  6 13 13 13 24 18 20  9\n",
            " 19 13 13  6 14 19  6  6 13 15 14  5 22  5 14 13 14 13 18  5  9 12 10  5\n",
            " 13  6  6 21  5 13  5 14 13 12  5 14 19  9 10 10  2 14  5  5  5 13 12 13\n",
            "  5 13 12 13  4 12 15  9 12 21 12 15  5 23 23  2 14 24 11  6  6 15 13  6\n",
            " 16 11 23 14  5 22 18  5 13 13 13 14 13 13 18  5 23  6  5 13 13  9  6  6\n",
            "  6  6 10  5 14 18 12 12  6 14 13 14  5  6  5 13  6  6 14  5 21  5 13 10\n",
            " 13  2 13 10 14 15  5 12 14 13 10 19  9 21 10 20  5 10 13  9 10  2  6 13\n",
            " 14  5  6 14  5 14  5 13  6  5 13  6  0 13  5 22  6  5  6 13 19 14  5 13\n",
            " 12  5  6 22 13 13 13  6 14  6 10 12 13 14 13  5 13 13 13 15 14 13 12  4\n",
            "  5 12 10 15  6  5  5  9  6 12 12 21 13  5 14 15 13 13 14  5  5 12 15 14\n",
            "  6 10 11  7 15  5 13  5  5 14  0  9  6 13 14  5 10 10 24 13 21 14  6 10\n",
            " 12 13 13 13 10  6  6  5  5 15 23 13 13 14 15 20 14 19 10  5  0 14  6 19\n",
            " 12 10 14  6  9 15  2  6  6  5 13 13 24 15  5 13  2 14 19  5 10 13 13 13\n",
            " 12 13 13 13  6 16  6  5  6 13 22 13  6 13 13  2 13  1 14  5 13  2 15  6\n",
            "  0  6  8 13 10 10 13 14 10  6 13 12 13 13 14 13  2 13 13 13 13  9 15 13\n",
            " 14 12 12  9  2  5 13 13  5 10  4 13 12 15  2  5 10 14  5 11  6  5  8  5\n",
            "  9 12  6 13  6 12 13 18 16  5 13  6 13 12 13  5 21 14  5 14 15 12 13 13\n",
            " 14 13  5  5  5 12 15 14 14  6 13 24 10 11  7 15  5  5 13  5 13 13 14  0\n",
            " 13  5 14  5 13  9 11  6 18 14 15  8 10  5 24 13 21 13 13 14 14  5  6  6\n",
            "  6 12  5 13 10  0 13 13 13 10 10  2 13  6  6  5 14 23  5 13 15 13  2 14\n",
            " 13 13 14 14  5 19 10  5  5  0 14  5  6 12 19  6 14 12 10 10  9  6 15  2\n",
            "  6 21  5  6 12  5 13 13 13  6 24 21 15  6  9 18 12  0 12 13  5  5  2  5\n",
            " 14 13 10 19 13  5 12 12  6  9  9  2 13 13  5  4 10 13 12  2 15  5  5 11\n",
            " 17 13  6  5  5 12  8  6  9 13 12 18  6 13  9 13 16 15  5 13 11 13  6 13\n",
            " 12 13 13  5 13 21  5 14 15 12 13 13 14 13  5 12  5  5  6 15  5 14  6 13\n",
            " 14 24 10 11  7 15  5 13  5  5  0 14  9 13 14 13  5  5 13  9  6 11]\n",
            "This is for avg salary (k)\n",
            "[ 53  82  77  61 134  97  56 133  32 170 195  77 168  41 132 178 111 187\n",
            " 173  82 117  99 130  75 174  80 106  13  75  77  61  99 134 145 130 118\n",
            " 120 125 181 118  83 104 173  72 158 189 210   2  80  69  89 134  45 135\n",
            " 124  59 188 175  56  97 120 135 169  44  77 139  66  25 156 102  43 207\n",
            "  60 129 103 155 184  82 125 132 150  25 158  63  81  22 168 133  78  14\n",
            "  14 205  77 119  54  78 102 105  25 160 145  78  82 217  98 115  25  24\n",
            "  33 190  64 132 170 159 122  68 121  97 142 162 108 121 147  92  34   4\n",
            " 121   5  86  69 180  77  70 200 108 101  77 187 159 107 116  81 114 150\n",
            "  44  81 166 107 119 104  32 119  76 124 196 201 172  61 120 202  99 173\n",
            " 120 176  33   7 143  34 184  82  52  19 185  63 170 104 215  25 191 180\n",
            "  32 143 151 182  28 179  90 160 171  50  76  94 163 209  76 213  15  10\n",
            "  20 150  38 103  25  23  69 121 130  85 108  40   6  54  32 124  76  82\n",
            "  92  70  65 196 201 172  13  61  47  16 202 120  28  84 120  80  75 134\n",
            " 176  83 107  33 100  60   0  74 143 194 107  20   7  17  93  96 184 111\n",
            "  34  82  75 174 189  52 122 185  19 170  63  37 123  99 215 109 104  63\n",
            " 191  25 180  87  26  32 143 155 106  99 109 182 172 201 151  28  20  59\n",
            " 168 112  31 179 152  69 160  62  91 145 193  30  82  88 134 145 125  90\n",
            "  50  50  61  91 171  71  76 163 197   9  94 123 183  41 151 133  16  76\n",
            "  51 109 120 130 209  32 213 114  36  35  96  15 188  10  81  20  39 128\n",
            " 188 150 156  40  38 103 173 165 105  23 169 123 218  55  69  25 106  11\n",
            " 148 170  63  24 138  50  33  49  67  87 143  56  89 189 157 199  30 208\n",
            "  40 130  82  19  18  35 107  77 147  43  50 167 121 144  69 114 121 192\n",
            "  46 126  69 158 136  68   8 170 143  43  96 141  19   1 212  52 117  57\n",
            "  35  41 191  54 168 164  58  68  59 175 109  91  61 171 137 216 144  71\n",
            "  76 186 153  78  61 155  90 163 197  94   9 183  41 123 206 120 188 132\n",
            " 151 175 132 110  55  68 126 133 169 177  81 108 180 126  16  95 149  76\n",
            "  51  55 109 209 124 210 198  32 213  29 114  35  36  42  96  59  81 170\n",
            "  79 137 188  81  15  67  10  20 204  46 203 134  97  48  39 128 102 188\n",
            " 150  97 156 211 115  40  78  17 131  88 186 149  12  38 192 165 103 135\n",
            " 161 105  23 123 123 169 218 152 119  55  69  25 106  11  23 148   3  22\n",
            " 170  63  24 138  50  49  33  67  66 200  87 143 167 128  46  76 112  56\n",
            "  94 154  53 157  12  40  30 199  40  95  82 101 130  90  19 134 135  57\n",
            "  18 107 145 146  35 138 147  77  31 208  50 140  43 121 167  69  27 121\n",
            " 144  37 114 120 117  73 192  46 126 136  82  68   8 170 203 143  43 107\n",
            "  96 214 141  98 212  19   1 204 117  52  57  35  41  77 181 191  69  54\n",
            " 168 164  73 145  58  78  68 199 121  10 121 159  48 104  68  61 105 100\n",
            "  21 113 169  44  35  91  42  96 133  59  99  81  79 137 188  15  81  67\n",
            "  10 204  20  46  97  48 120 129 100 128 188  97 102 156 150 211  40  17\n",
            " 115  48 145  78 131 113  88 186 119 158 149  80  38  12 192 170  85 103\n",
            " 165 105  23 123 123 169 218 152 119  25  55  69 156 106  91  11 148   3\n",
            "  23  22 170  63  24 138  50  33  67  49 143  87 127 167  46  82 128  76\n",
            " 112  56 154  94]\n",
            "Job location in numerical value\n",
            "[24 17  7 35 25 32 17  2 25 25  2 34 32 35 16 23 16  2  2  3 35 32 11 14\n",
            " 34 16 27 16  4  7 35 18 16  2 16  2  2 16  2 25  2 16  2 23 11  5 35  3\n",
            " 26 11  7 16  0 25  2 24  2 20 17 32 26 25  2 35 28 16  8 16 28 35 12 11\n",
            " 20 34 28 35  2 16 34  2  2 28 17 11 34 35 32  2  7  0 15  2  8 17 17 17\n",
            " 34 34 36 17 25 25 32  5 21 18 23  1 22  2 23 16 25  2  2 12 17 19  2 21\n",
            " 16 26  5 11 17  0  2 20 34 11 34 32  2  2  3 25 34  2  7 11  3 33  2 28\n",
            " 35  5 11 26 31 35  7 12 16 23 16  2  2 16 17  2 32  2 33 16 34 28 36 16\n",
            "  2 18  7  2  2 23 16 23  2  6 16 25 20 28  1  2  0 16 16 11 33 15 25 17\n",
            " 16  2 25  2  2 32 11 28  2 31  6 36 17 11 11 34 36 25 15 32  7 23 16 11\n",
            "  2 34 26 16  2  2  2 16  2 10  2 17 23 12 33 16 14 25 16 31 11 34 27 19\n",
            " 25 32 36  2 29 22 28  5 32 26  2 21 16 18  4 34 28  7  2  2  2 16 23 10\n",
            "  2 31  2  2 23  9 16  6 25  2 23 20 28 25 27 18  5  2 34  2  1  0  2 32\n",
            " 25 16 30 16  2 16 11  5 34 16  2 32  2 12 16  2 32 16 34 15 35 16 33 34\n",
            " 25 16  2  7 17 34 32  5 21  2 28 25 34 16  2 16  2 11  2 14 16  4  2  2\n",
            " 16 32 13 11 25  2 16 28 11  3  2 31  2 25  3 36 16 17 11  2 17  6 21 26\n",
            " 12 11 34 16 21  2  2 25  8 16 16 28  7  5 16 25 36  2 25 21 25 12  2 16\n",
            "  1 34  7 11 20 32 16 16 17 14 11  2  2 26 11 11  9 35  9 16 16 28  2 35\n",
            " 22 31 11 32 32 21  0 21 23 28  2  2 25 21 24 20 34 16 35 33 23  2  2 34\n",
            " 25  2  2  2 25 25 28 16  2 17  7 32  5 34  2 34  2  2 21  2  2 34 25 25\n",
            " 25  2  2 25 25 16 25 25 28 16 25 25 34 27 16  2  2 35 25 11  2 25 14  4\n",
            " 16 25  2 25 34 17 17  2 16 13  2 32 32 11  2  1 25 16 17 16 25  2 25 16\n",
            " 28 25 11  2 25  3 21 33  2 16  2  2 25  2  2 25 31 25  3  3 36 31 17 16\n",
            " 11 25 16  2 17  6 21 26 16 12  7 25 11 34 16 21  2 25  2  8  8  2 16 16\n",
            "  2 28 16 16 31 28 26 28 33 16 33  0 36 25 25 34 25 34 21 16 12 16 25 28\n",
            "  2  1 16  2 16 16  7 34  1  2 20 34 11 16 32 17 11 11 16  2 14  2 34  2\n",
            "  2  2 26  9  2 35  9 16 16 16 28  2  2  2 35 11 11 22 31 23 32 32 21  0\n",
            " 21 28 17 23 34 28  2  2 25 16 25  2 21 16 28 35 17 16 28  2 17 16 17 16\n",
            " 16  2  2 35  4 17 25  2 23 25 20 34 17  2 16  2 13 32 32  2 11  1 17 16\n",
            " 26 34  5  2 16 25 25 11 28  2  3 33 25  1  2 21  2  2 16  2 34 18  2 25\n",
            "  2 25  2 17 35 31 25  3 36 31 17 16 11 25 16  6  2 17 28 21  2 26 12  7\n",
            " 16 25 11 34 16 21  2  2  8 25 16 16  2  2 16  2 28 16 31 28 28 26]\n"
          ]
        }
      ]
    },
    {
      "cell_type": "code",
      "source": [
        "!pip install category_encoders"
      ],
      "metadata": {
        "colab": {
          "base_uri": "https://localhost:8080/"
        },
        "id": "EibnOj7C67kp",
        "outputId": "9f39ef80-e0a7-4a06-8858-5cc6ca20041b"
      },
      "execution_count": 28,
      "outputs": [
        {
          "output_type": "stream",
          "name": "stdout",
          "text": [
            "Requirement already satisfied: category_encoders in /usr/local/lib/python3.7/dist-packages (2.4.0)\n",
            "Requirement already satisfied: numpy>=1.14.0 in /usr/local/lib/python3.7/dist-packages (from category_encoders) (1.21.6)\n",
            "Requirement already satisfied: scipy>=1.0.0 in /usr/local/lib/python3.7/dist-packages (from category_encoders) (1.4.1)\n",
            "Requirement already satisfied: patsy>=0.5.1 in /usr/local/lib/python3.7/dist-packages (from category_encoders) (0.5.2)\n",
            "Requirement already satisfied: statsmodels>=0.9.0 in /usr/local/lib/python3.7/dist-packages (from category_encoders) (0.10.2)\n",
            "Requirement already satisfied: pandas>=0.21.1 in /usr/local/lib/python3.7/dist-packages (from category_encoders) (1.3.5)\n",
            "Requirement already satisfied: scikit-learn>=0.20.0 in /usr/local/lib/python3.7/dist-packages (from category_encoders) (1.0.2)\n",
            "Requirement already satisfied: python-dateutil>=2.7.3 in /usr/local/lib/python3.7/dist-packages (from pandas>=0.21.1->category_encoders) (2.8.2)\n",
            "Requirement already satisfied: pytz>=2017.3 in /usr/local/lib/python3.7/dist-packages (from pandas>=0.21.1->category_encoders) (2022.1)\n",
            "Requirement already satisfied: six in /usr/local/lib/python3.7/dist-packages (from patsy>=0.5.1->category_encoders) (1.15.0)\n",
            "Requirement already satisfied: joblib>=0.11 in /usr/local/lib/python3.7/dist-packages (from scikit-learn>=0.20.0->category_encoders) (1.1.0)\n",
            "Requirement already satisfied: threadpoolctl>=2.0.0 in /usr/local/lib/python3.7/dist-packages (from scikit-learn>=0.20.0->category_encoders) (3.1.0)\n"
          ]
        }
      ]
    },
    {
      "cell_type": "code",
      "source": [
        "import category_encoders as ce"
      ],
      "metadata": {
        "id": "IrNiDzk371fy"
      },
      "execution_count": 29,
      "outputs": []
    },
    {
      "cell_type": "code",
      "source": [
        "# split X and y into training and testing sets\n",
        "X = df.drop(['job_title_sim'], axis=1)\n",
        "\n",
        "y = df['job_title_sim']\n",
        "\n",
        "from sklearn.model_selection import train_test_split\n",
        "\n",
        "X_train, X_test, y_train, y_test = train_test_split(X, y, test_size = 0.3, random_state = 0)\n",
        "# check the shape of X_train and X_test\n",
        "\n",
        "X_train.shape, X_test.shape"
      ],
      "metadata": {
        "colab": {
          "base_uri": "https://localhost:8080/"
        },
        "id": "am04rULD8kYD",
        "outputId": "59ee9d0d-1d3c-4a6e-fc74-ee15bd6e8f8a"
      },
      "execution_count": 30,
      "outputs": [
        {
          "output_type": "execute_result",
          "data": {
            "text/plain": [
              "((519, 23), (223, 23))"
            ]
          },
          "metadata": {},
          "execution_count": 30
        }
      ]
    },
    {
      "cell_type": "code",
      "source": [
        "encoder = ce.OneHotEncoder(cols=['Job Title','Location','Size','Sector','Avg Salary(K)'])\n",
        "X_train=encoder.fit_transform(X_train)\n",
        "X_test=encoder.transform(X_test)"
      ],
      "metadata": {
        "id": "7_U6yl448AIJ"
      },
      "execution_count": 31,
      "outputs": []
    },
    {
      "cell_type": "code",
      "source": [
        "ft1 = list(zip(df_t,df_t2))\n",
        "from sklearn.neighbors import KNeighborsClassifier\n",
        "model = KNeighborsClassifier(n_neighbors=3)\n",
        "#training sets\n",
        "model.fit(ft1,df_t3)\n",
        "#Predict Output\n",
        "predicted= model.predict([[0,2]])\n",
        "print(predicted)"
      ],
      "metadata": {
        "colab": {
          "base_uri": "https://localhost:8080/"
        },
        "id": "OWcaaM3N8d9t",
        "outputId": "dd6e4bb3-4de4-4ea0-cf3d-4d92a385371c"
      },
      "execution_count": 35,
      "outputs": [
        {
          "output_type": "stream",
          "name": "stdout",
          "text": [
            "[4]\n"
          ]
        }
      ]
    },
    {
      "cell_type": "code",
      "source": [
        "X_train, X_test, y_train, y_test = train_test_split(ft1,df_t4, test_size=0.3)\n",
        "knn = KNeighborsClassifier(n_neighbors=5)\n",
        "#training sets\n",
        "knn.fit(X_train, y_train)\n",
        "#predicting the response for test dataset\n",
        "y_pred = knn.predict(X_test)"
      ],
      "metadata": {
        "id": "XhwgYhwyBsnj"
      },
      "execution_count": 37,
      "outputs": []
    },
    {
      "cell_type": "code",
      "source": [
        "from sklearn import metrics\n",
        "from sklearn.metrics import classification_report, confusion_matrix\n",
        "# Model Accuracy\n",
        "print(\"accuracy:\",metrics.accuracy_score(y_test, y_pred))\n",
        "print(confusion_matrix(y_test, y_pred))\n",
        "print(classification_report(y_test, y_pred))"
      ],
      "metadata": {
        "colab": {
          "base_uri": "https://localhost:8080/"
        },
        "id": "BFMy-3ZyB9cK",
        "outputId": "bbc136f8-5060-4691-ba71-fc330d99ea32"
      },
      "execution_count": 38,
      "outputs": [
        {
          "output_type": "stream",
          "name": "stdout",
          "text": [
            "accuracy: 0.32286995515695066\n",
            "[[ 0  0  0  0  0  0  0  0  0  0  0  2  1  0  0  0  0  0  0  0  0  0  0  0]\n",
            " [ 0  0  0  0  0  0  0  0  0  0  0  0  1  0  0  0  0  0  0  0  0  0  0  0]\n",
            " [ 0  0  0  0  0  2  0  0  0  3  0  0  0  0  0  0  0  0  0  0  0  0  0  0]\n",
            " [ 0  0  0  0  0  0  0  0  0  0  0  0  0  0  0  0  0  0  0  0  0  0  0  0]\n",
            " [ 0  0  0  1 23  4  1  0  0  1  0  5  6  0  0  0  0  0  0  0  0  0  0  0]\n",
            " [ 2  0  1  0  0  7  0  0  0  2  1  3  9  1  2  0  0  0  0  1  0  0  0  0]\n",
            " [ 0  0  0  0  0  0  0  0  0  0  0  0  0  0  0  0  0  0  0  0  0  0  0  0]\n",
            " [ 0  0  0  0  0  1  0  0  0  0  0  0  1  0  0  0  0  0  0  0  0  0  0  0]\n",
            " [ 0  0  0  0  1  1  1  0  3  1  0  0  0  0  0  0  0  0  0  0  0  0  0  0]\n",
            " [ 0  0  1  0  3  0  0  0  0  2  0  1  1  0  0  0  0  0  0  0  0  0  0  0]\n",
            " [ 0  0  0  0  1  0  0  0  0  0  0  1  0  0  0  0  0  0  0  0  0  0  0  0]\n",
            " [ 0  0  0  0  0  2  0  0  1  0  1  6  4  0  1  0  0  0  0  0  0  0  1  0]\n",
            " [ 2  0  2  0  4  9  0  0  0  5  1  3 22  3  0  0  0  0  0  0  0  0  1  0]\n",
            " [ 0  0  0  0  3  2  1  0  0  1  0  1  3  5  3  0  0  0  0  0  0  0  1  0]\n",
            " [ 0  0  0  0  2  1  0  0  0  0  0  0  4  0  2  0  0  0  0  0  0  0  0  0]\n",
            " [ 0  0  0  0  0  2  0  0  0  0  0  0  0  0  0  0  0  0  0  0  0  0  0  0]\n",
            " [ 0  0  0  0  0  1  0  0  0  0  0  0  0  0  0  0  0  0  0  0  0  0  0  0]\n",
            " [ 0  0  0  0  0  0  0  0  0  0  0  0  3  0  0  0  0  0  0  0  0  0  0  0]\n",
            " [ 0  0  0  0  0  0  0  0  0  0  0  1  7  0  0  0  0  0  0  0  0  0  0  0]\n",
            " [ 0  0  0  0  0  1  0  0  0  0  0  0  0  0  0  0  0  0  0  2  0  0  0  0]\n",
            " [ 0  0  0  0  0  3  0  0  0  0  0  0  1  0  0  0  0  0  1  0  0  0  0  0]\n",
            " [ 0  0  0  0  0  0  0  0  0  0  0  1  0  1  0  0  0  0  0  0  0  0  0  0]\n",
            " [ 0  0  0  0  0  1  0  0  0  0  0  0  0  0  0  0  0  0  0  0  0  0  0  0]\n",
            " [ 0  0  0  0  0  0  0  0  0  0  0  0  3  0  0  0  0  0  0  0  0  0  0  0]]\n",
            "              precision    recall  f1-score   support\n",
            "\n",
            "           0       0.00      0.00      0.00         3\n",
            "           1       0.00      0.00      0.00         1\n",
            "           2       0.00      0.00      0.00         5\n",
            "           4       0.00      0.00      0.00         0\n",
            "           5       0.62      0.56      0.59        41\n",
            "           6       0.19      0.24      0.21        29\n",
            "           7       0.00      0.00      0.00         0\n",
            "           8       0.00      0.00      0.00         2\n",
            "           9       0.75      0.43      0.55         7\n",
            "          10       0.13      0.25      0.17         8\n",
            "          11       0.00      0.00      0.00         2\n",
            "          12       0.25      0.38      0.30        16\n",
            "          13       0.33      0.42      0.37        52\n",
            "          14       0.50      0.25      0.33        20\n",
            "          15       0.25      0.22      0.24         9\n",
            "          16       0.00      0.00      0.00         2\n",
            "          17       0.00      0.00      0.00         1\n",
            "          18       0.00      0.00      0.00         3\n",
            "          19       0.00      0.00      0.00         8\n",
            "          20       0.67      0.67      0.67         3\n",
            "          21       0.00      0.00      0.00         5\n",
            "          22       0.00      0.00      0.00         2\n",
            "          23       0.00      0.00      0.00         1\n",
            "          24       0.00      0.00      0.00         3\n",
            "\n",
            "    accuracy                           0.32       223\n",
            "   macro avg       0.15      0.14      0.14       223\n",
            "weighted avg       0.33      0.32      0.32       223\n",
            "\n"
          ]
        },
        {
          "output_type": "stream",
          "name": "stderr",
          "text": [
            "/usr/local/lib/python3.7/dist-packages/sklearn/metrics/_classification.py:1318: UndefinedMetricWarning:\n",
            "\n",
            "Precision and F-score are ill-defined and being set to 0.0 in labels with no predicted samples. Use `zero_division` parameter to control this behavior.\n",
            "\n",
            "/usr/local/lib/python3.7/dist-packages/sklearn/metrics/_classification.py:1318: UndefinedMetricWarning:\n",
            "\n",
            "Recall and F-score are ill-defined and being set to 0.0 in labels with no true samples. Use `zero_division` parameter to control this behavior.\n",
            "\n",
            "/usr/local/lib/python3.7/dist-packages/sklearn/metrics/_classification.py:1318: UndefinedMetricWarning:\n",
            "\n",
            "Precision and F-score are ill-defined and being set to 0.0 in labels with no predicted samples. Use `zero_division` parameter to control this behavior.\n",
            "\n",
            "/usr/local/lib/python3.7/dist-packages/sklearn/metrics/_classification.py:1318: UndefinedMetricWarning:\n",
            "\n",
            "Recall and F-score are ill-defined and being set to 0.0 in labels with no true samples. Use `zero_division` parameter to control this behavior.\n",
            "\n",
            "/usr/local/lib/python3.7/dist-packages/sklearn/metrics/_classification.py:1318: UndefinedMetricWarning:\n",
            "\n",
            "Precision and F-score are ill-defined and being set to 0.0 in labels with no predicted samples. Use `zero_division` parameter to control this behavior.\n",
            "\n",
            "/usr/local/lib/python3.7/dist-packages/sklearn/metrics/_classification.py:1318: UndefinedMetricWarning:\n",
            "\n",
            "Recall and F-score are ill-defined and being set to 0.0 in labels with no true samples. Use `zero_division` parameter to control this behavior.\n",
            "\n"
          ]
        }
      ]
    },
    {
      "cell_type": "code",
      "source": [
        "neighbors = np.arange(1, 9)\n",
        "train_accuracy = np.empty(len(neighbors))\n",
        "test_accuracy = np.empty(len(neighbors))\n",
        "#loop for diff val of k\n",
        "for i, k in enumerate(neighbors):\n",
        "    knn = KNeighborsClassifier(n_neighbors=k)\n",
        "    #fiting training data\n",
        "    knn.fit(X_train, y_train)\n",
        "    #compute accuracy on the training set\n",
        "    train_accuracy[i] = knn.score(X_train, y_train)\n",
        "    #Compute accuracy on the testing set\n",
        "    test_accuracy[i] = knn.score(X_test, y_test)\n",
        "plt.plot(neighbors, test_accuracy, label = 'Test Accuracy')\n",
        "plt.plot(neighbors, train_accuracy, label = 'Train Accuracy')\n",
        "plt.legend()\n",
        "plt.xlabel('Number of Neighbors')\n",
        "plt.ylabel('Accuracy')\n",
        "plt.show()"
      ],
      "metadata": {
        "colab": {
          "base_uri": "https://localhost:8080/",
          "height": 278
        },
        "id": "UJvfTaHQCQFv",
        "outputId": "9d273de0-400e-47d9-8f5b-f3ab6c3e47b8"
      },
      "execution_count": 39,
      "outputs": [
        {
          "output_type": "display_data",
          "data": {
            "text/plain": [
              "<Figure size 432x288 with 1 Axes>"
            ],
            "image/png": "[encoded data removed]"
          },
          "metadata": {
            "needs_background": "light"
          }
        }
      ]
    },
    {
      "cell_type": "code",
      "source": [
        "error = []\n",
        "#error ploting diff k val\n",
        "for i in range(1, 40):\n",
        "    knn = KNeighborsClassifier(n_neighbors=i)\n",
        "    knn.fit(X_train, y_train)\n",
        "    pred_i = knn.predict(X_test)\n",
        "    error.append(np.mean(pred_i != y_test))\n",
        "plt.figure(figsize=(12, 6))\n",
        "plt.plot(range(1, 40), error, color='green', linestyle= 'solid', marker='v',markerfacecolor='red', markersize=10)\n",
        "plt.title('error rate for k values')\n",
        "plt.xlabel('number of n_neighbours')\n",
        "plt.ylabel('Avrage error')\n",
        "plt.savefig('errork.png')"
      ],
      "metadata": {
        "colab": {
          "base_uri": "https://localhost:8080/",
          "height": 404
        },
        "id": "4yHXRGygCXrI",
        "outputId": "60a1dd76-99dd-4c6f-f0e2-2b2b3d6c6e70"
      },
      "execution_count": 40,
      "outputs": [
        {
          "output_type": "display_data",
          "data": {
            "text/plain": [
              "<Figure size 864x432 with 1 Axes>"
            ],
            "image/png": "[encoded data removed]"
          },
          "metadata": {
            "needs_background": "light"
          }
        }
      ]
    },
    {
      "cell_type": "code",
      "source": [
        "from sklearn.naive_bayes import GaussianNB\n",
        "nbModel = GaussianNB()\n",
        "nbModel.fit(ft1,df_t)\n",
        "GaussianNB(priors=None, var_smoothing=1e-09)"
      ],
      "metadata": {
        "colab": {
          "base_uri": "https://localhost:8080/"
        },
        "id": "6kedXXlQ9Dyy",
        "outputId": "90fdabff-e77f-495c-d1e0-343f3e056bc6"
      },
      "execution_count": 46,
      "outputs": [
        {
          "output_type": "execute_result",
          "data": {
            "text/plain": [
              "GaussianNB()"
            ]
          },
          "metadata": {},
          "execution_count": 46
        }
      ]
    },
    {
      "cell_type": "code",
      "source": [
        "y_pred = nbModel.predict(X_test)\n",
        "print(y_pred)"
      ],
      "metadata": {
        "colab": {
          "base_uri": "https://localhost:8080/"
        },
        "id": "bH_dKOghCfkZ",
        "outputId": "24885a15-093f-49ae-e8a9-a9f1bceb25cb"
      },
      "execution_count": 47,
      "outputs": [
        {
          "output_type": "stream",
          "name": "stdout",
          "text": [
            "[ 40  51 219  69 248 219  69  69  69  51 129  69  51  95 165  28 224 119\n",
            "  69 256 190  74  25 223  69 155 199  69 193  69  69  44   7  29 214  43\n",
            " 117  17 100  69 167  10  69  69  51  69  51 162 119 121  19  96  69 122\n",
            "  69  69  51 182  69 118   6  69  55 197 236 251  92  69 160  28 140 195\n",
            " 141 193 107  69 142  69 208 115  69 173 119 146  33 256  69 193 119 133\n",
            "  37  68  18  51 195 193  69 250  93 189 148 101  69 234 125 216  14  69\n",
            " 214 129 189 110 158 174  69 105  51 260  69  53  69 174 250  69 195  51\n",
            " 233 221  79  40  13  69 121 235 238 162  33 152  67   2  90  40 216  69\n",
            " 195 200  46 193  81 113 195  20  83  69  69 233  51  69 156  40  84 193\n",
            "  69  62  86 208  69  80 106 206  69  69  91 176  13 126 255 188 123 246\n",
            " 147 195 239 195 193  76 259  69 244  75  87  56 239 195  18 257  69  97\n",
            "  57  71  69 149  70  51  78 185 191  10 130 152  29 191  69 186  34 181\n",
            "  51 247  69 157  21  39 123]\n"
          ]
        }
      ]
    },
    {
      "cell_type": "code",
      "source": [
        "from sklearn.metrics import accuracy_score\n",
        "\n",
        "print('Model accuracy score: {0:0.4f}'. format(accuracy_score(df_t,df_t5)))"
      ],
      "metadata": {
        "colab": {
          "base_uri": "https://localhost:8080/"
        },
        "id": "9zSaxDsWERgK",
        "outputId": "039c03a1-9246-4e70-f2f0-dbe62d206bb9"
      },
      "execution_count": 62,
      "outputs": [
        {
          "output_type": "stream",
          "name": "stdout",
          "text": [
            "Model accuracy score: 0.0013\n"
          ]
        }
      ]
    },
    {
      "cell_type": "code",
      "source": [
        ""
      ],
      "metadata": {
        "id": "2TbD5zs7EWFB"
      },
      "execution_count": null,
      "outputs": []
    }
  ]
}